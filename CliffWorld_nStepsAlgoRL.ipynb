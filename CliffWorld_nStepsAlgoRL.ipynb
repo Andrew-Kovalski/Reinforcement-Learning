{
 "cells": [
  {
   "cell_type": "code",
   "execution_count": 1,
   "metadata": {
    "colab": {
     "base_uri": "https://localhost:8080/"
    },
    "id": "NbkaN_qc_Jgo",
    "outputId": "00af7fcb-781d-4073-9822-3b8d9a824801"
   },
   "outputs": [
    {
     "name": "stdout",
     "output_type": "stream",
     "text": [
      "Mounted at /content/drive\n"
     ]
    }
   ],
   "source": [
    "from google.colab import drive\n",
    "drive.mount('/content/drive')"
   ]
  },
  {
   "cell_type": "code",
   "execution_count": 2,
   "metadata": {
    "colab": {
     "base_uri": "https://localhost:8080/"
    },
    "id": "bsk_yM9pqQh5",
    "outputId": "dc61b3ed-a06d-44b9-a578-fcbe7528c78b"
   },
   "outputs": [
    {
     "name": "stdout",
     "output_type": "stream",
     "text": [
      "Looking in indexes: https://pypi.org/simple, https://us-python.pkg.dev/colab-wheels/public/simple/\n",
      "Collecting pyvirtualdisplay\n",
      "  Downloading PyVirtualDisplay-3.0-py3-none-any.whl (15 kB)\n",
      "Installing collected packages: pyvirtualdisplay\n",
      "Successfully installed pyvirtualdisplay-3.0\n"
     ]
    }
   ],
   "source": [
    "!pip install pyvirtualdisplay"
   ]
  },
  {
   "cell_type": "code",
   "execution_count": 3,
   "metadata": {
    "id": "NjORPmw7mgO7"
   },
   "outputs": [],
   "source": [
    "!apt-get install -y xvfb python-opengl > /dev/null 2>&1"
   ]
  },
  {
   "cell_type": "code",
   "execution_count": 4,
   "metadata": {
    "id": "epE0_gkQnMG0"
   },
   "outputs": [],
   "source": [
    "!pip install gym[all] pyvirtualdisplay > /dev/null 2>&1"
   ]
  },
  {
   "cell_type": "code",
   "execution_count": 5,
   "metadata": {
    "colab": {
     "base_uri": "https://localhost:8080/"
    },
    "id": "vxWb7T4HnbIp",
    "outputId": "2b259990-98c7-4144-8de4-50528411304f"
   },
   "outputs": [
    {
     "data": {
      "text/plain": [
       "<pyvirtualdisplay.display.Display at 0x7f8081385150>"
      ]
     },
     "execution_count": 5,
     "metadata": {},
     "output_type": "execute_result"
    }
   ],
   "source": [
    "import numpy as np\n",
    "import gym\n",
    "from matplotlib import pyplot\n",
    "import matplotlib.pyplot as plt\n",
    "from mpl_toolkits.mplot3d import Axes3D\n",
    "from collections import defaultdict\n",
    "from functools import partial\n",
    "from tqdm import trange\n",
    "%matplotlib inline\n",
    "plt.style.use('ggplot')\n",
    "from IPython import display as ipythondisplay\n",
    "\n",
    "\n",
    "from pyvirtualdisplay import Display\n",
    "display = Display(visible=0, size=(600, 500))\n",
    "display.start()"
   ]
  },
  {
   "cell_type": "code",
   "execution_count": 6,
   "metadata": {
    "colab": {
     "base_uri": "https://localhost:8080/"
    },
    "id": "aglBtiAiUWhv",
    "outputId": "57008176-b90c-4fb5-9a4a-f3b509304db4"
   },
   "outputs": [
    {
     "name": "stdout",
     "output_type": "stream",
     "text": [
      "Using matplotlib backend: <object object at 0x7f80bfeb7460>\n"
     ]
    }
   ],
   "source": [
    "import numpy as np\n",
    "import pandas as pd\n",
    "import matplotlib.pyplot as plt\n",
    "from matplotlib.colors import hsv_to_rgb\n",
    "%matplotlib\n",
    "\n",
    "def change_range(values, vmin=0, vmax=1):\n",
    "    start_zero = values - np.min(values)\n",
    "    return (start_zero / (np.max(start_zero) + 1e-7)) * (vmax - vmin) + vmin\n",
    "\n",
    "class GridWorld:\n",
    "    terrain_color = dict(normal=[127/360, 0, 96/100],\n",
    "                         objective=[26/360, 100/100, 100/100],\n",
    "                         cliff=[247/360, 92/100, 70/100],\n",
    "                         player=[344/360, 93/100, 100/100])\n",
    "        \n",
    "    def __init__(self, show):\n",
    "        self.player = None\n",
    "        self._create_grid()\n",
    "        if show:  \n",
    "           self._draw_grid()\n",
    "        \n",
    "    def _create_grid(self, initial_grid=None):\n",
    "        self.grid = self.terrain_color['normal'] * np.ones((4, 12, 3))\n",
    "        self._add_objectives(self.grid)\n",
    "        \n",
    "    def _add_objectives(self, grid):\n",
    "        grid[-1, 1:11] = self.terrain_color['cliff']\n",
    "        grid[-1, -1] = self.terrain_color['objective']\n",
    "        \n",
    "    def _draw_grid(self):\n",
    "        self.fig, self.ax = plt.subplots(figsize=(12, 4))\n",
    "        self.ax.grid(which='minor')       \n",
    "        self.q_texts = [self.ax.text(*self._id_to_position(i)[::-1], '0',\n",
    "                                     fontsize=11, verticalalignment='center', \n",
    "                                     horizontalalignment='center') for i in range(12 * 4)]     \n",
    "         \n",
    "        self.im = self.ax.imshow(hsv_to_rgb(self.grid), cmap='terrain',\n",
    "                                 interpolation='nearest', vmin=0, vmax=1)        \n",
    "        self.ax.set_xticks(np.arange(12))\n",
    "        self.ax.set_xticks(np.arange(12) - 0.5, minor=True)\n",
    "        self.ax.set_yticks(np.arange(4))\n",
    "        self.ax.set_yticks(np.arange(4) - 0.5, minor=True)\n",
    "        \n",
    "    def reset(self):\n",
    "        self.player = (3, 0)        \n",
    "        return self._position_to_id(self.player)\n",
    "    \n",
    "    def step(self, action):\n",
    "        # Possible actions\n",
    "        if action == 0 and self.player[0] > 0:\n",
    "            self.player = (self.player[0] - 1, self.player[1])\n",
    "        if action == 1 and self.player[0] < 3:\n",
    "            self.player = (self.player[0] + 1, self.player[1])\n",
    "        if action == 2 and self.player[1] < 11:\n",
    "            self.player = (self.player[0], self.player[1] + 1)\n",
    "        if action == 3 and self.player[1] > 0:\n",
    "            self.player = (self.player[0], self.player[1] - 1)\n",
    "            \n",
    "        # Rules\n",
    "        if all(self.grid[self.player] == self.terrain_color['cliff']):\n",
    "            reward = -100\n",
    "            done = True\n",
    "        elif all(self.grid[self.player] == self.terrain_color['objective']):\n",
    "            reward = 0\n",
    "            done = True\n",
    "        else:\n",
    "            reward = -1\n",
    "            done = False\n",
    "            \n",
    "        return self._position_to_id(self.player), reward, done\n",
    "    \n",
    "    def _position_to_id(self, pos):\n",
    "        ''' Maps a position in x,y coordinates to a unique ID '''\n",
    "        return pos[0] * 12 + pos[1]\n",
    "    \n",
    "    def _id_to_position(self, idx):\n",
    "        return (idx // 12), (idx % 12)\n",
    "        \n",
    "    def render(self, q_values=None, action=None, max_q=False, colorize_q=False):\n",
    "        assert self.player is not None, 'You first need to call .reset()'  \n",
    "        \n",
    "        if colorize_q:\n",
    "            assert q_values is not None, 'q_values must not be None for using colorize_q'            \n",
    "            grid = self.terrain_color['normal'] * np.ones((4, 12, 3))\n",
    "            values = change_range(np.max(q_values, -1)).reshape(4, 12)\n",
    "            grid[:, :, 1] = values\n",
    "            self._add_objectives(grid)\n",
    "        else:            \n",
    "            grid = self.grid.copy()\n",
    "            \n",
    "        grid[self.player] = self.terrain_color['player']       \n",
    "        self.im.set_data(hsv_to_rgb(grid))\n",
    "               \n",
    "        if q_values is not None:\n",
    "            xs = np.repeat(np.arange(12), 4)\n",
    "            ys = np.tile(np.arange(4), 12)  \n",
    "            \n",
    "            for i, text in enumerate(self.q_texts):\n",
    "                if max_q:\n",
    "                    q = max(q_values[i])    \n",
    "                    txt = '{:.2f}'.format(q)\n",
    "                    text.set_text(txt)\n",
    "                else:                \n",
    "                    actions = ['U', 'D', 'R', 'L']\n",
    "                    txt = '\\n'.join(['{}: {:.2f}'.format(k, q) for k, q in zip(actions, q_values[i])])\n",
    "                    text.set_text(txt)\n",
    "                \n",
    "        if action is not None:\n",
    "            self.ax.set_title(action, color='r', weight='bold', fontsize=32)\n",
    "\n",
    "        plt.pause(0.01)"
   ]
  },
  {
   "cell_type": "code",
   "execution_count": 7,
   "metadata": {
    "id": "l0c5WfMfBkc1"
   },
   "outputs": [],
   "source": [
    "class BaseNStepsCliffAgent():\n",
    "\n",
    "   # Инициализация агента\n",
    "   def __init__(self, alpha, \n",
    "                gamma, epsilon,\n",
    "                environment, seed,\n",
    "                n_steps=None):\n",
    "     \n",
    "       super().__init__()\n",
    "\n",
    "        \n",
    "       self.alpha = alpha                                    # Шаг обучения\n",
    "       self.gamma = gamma                                    # Фактор дисконтирования                                     \n",
    "       self.epsilon = epsilon                                # Вероятность случайного действия\n",
    "\n",
    "       self.environment = environment                        # Среда\n",
    "       self.n_steps = n_steps                                # Число шагов\n",
    "\n",
    "       self.random_generator = np.random.RandomState(seed)   # Генератор случайных чисел\n",
    "\n",
    "       self.saved_state = None                               # Сохраненное состояние\n",
    "       self.saved_action = None                              # Сохраненное действие\n",
    "\n",
    "       self.Qfunction = np.zeros((4*12, 4))                 # Табличное представление Q функции\n",
    "\n",
    "       self.vector_gamma = np.array([self.gamma**(i) for i in range(self.n_steps)]) # Вектор фактора дисконтирования  \n",
    "      \n",
    "\n",
    "\n",
    "   # Функция поиска индекса максимального элемента с устранением неоднозначности\n",
    "   def argmax(self, args):\n",
    "       max_ = float('-inf')\n",
    "       max_index = 0\n",
    "       maxs = []\n",
    "\n",
    "       for i in range(len(args)):\n",
    "           if abs(args[i]-max_)<1e-3:\n",
    "              maxs.append(i)\n",
    "           if args[i]>max_:\n",
    "              max_=args[i]\n",
    "              max_index=i\n",
    "              maxs = [max_index]\n",
    "              \n",
    "       return self.random_generator.choice(maxs)\n",
    "\n",
    "\n",
    "   # Сохранение состояния\n",
    "   def save_state(self, state, action):\n",
    "       self.saved_state = state\n",
    "       self.saved_action = action\n",
    "      \n",
    "\n",
    "   # Политика выбора действия\n",
    "   def policy(self, state):\n",
    "       pass\n",
    "\n",
    "   # Старт обучения\n",
    "   def start(self, state):\n",
    "\n",
    "       self.saved_state = state\n",
    "       self.saved_action = self.policy(state)\n",
    "\n",
    "       return self.saved_action\n",
    "\n",
    "   # Обновление Q value\n",
    "   def update(self, reward, state):\n",
    "       pass\n",
    "   \n",
    "   # Конец обучения\n",
    "   def end(self, reward):\n",
    "       pass\n",
    "\n",
    "   # Сброс статистик\n",
    "   def reset(self):\n",
    "\n",
    "       self.saved_state = None\n",
    "       self.saved_action = None"
   ]
  },
  {
   "cell_type": "code",
   "execution_count": 8,
   "metadata": {
    "id": "RjAGafcHC-0S"
   },
   "outputs": [],
   "source": [
    "class SarsaNstepsCliffAgent(BaseNStepsCliffAgent):\n",
    "     \n",
    "   def policy(self, state):\n",
    "\n",
    "       if self.random_generator.uniform(0, 1)<self.epsilon:\n",
    "          return self.random_generator.choice([0, 1, 2, 3])\n",
    "       else:\n",
    "          return self.argmax(self.Qfunction[state])\n",
    "  \n",
    "\n",
    "   def update(self, reward_vector, state, action):\n",
    "\n",
    "       reward = reward_vector @ self.vector_gamma\n",
    "\n",
    "       Qvalue = self.Qfunction[state][action]\n",
    "          \n",
    "       self.Qfunction[self.saved_state][self.saved_action] += self.alpha*(reward + (self.gamma**(self.n_steps))*Qvalue \\\n",
    "                                                              - self.Qfunction[self.saved_state][self.saved_action])\n",
    "\n",
    "   def end(self, reward_vector):\n",
    "\n",
    "       size_reward_vector = len(reward_vector)\n",
    "       reward = reward_vector @ self.vector_gamma[:size_reward_vector]\n",
    "  \n",
    "       self.Qfunction[self.saved_state][self.saved_action] += self.alpha*(reward \\\n",
    "                                                              - self.Qfunction[self.saved_state][self.saved_action])"
   ]
  },
  {
   "cell_type": "code",
   "execution_count": 9,
   "metadata": {
    "id": "iewoGVUtc3sf"
   },
   "outputs": [],
   "source": [
    "class ExpectedSarsaNstepsCliffAgent(BaseNStepsCliffAgent):\n",
    "     \n",
    "   def policy(self, state):\n",
    "\n",
    "       if self.random_generator.uniform(0, 1)<self.epsilon:\n",
    "          return self.random_generator.choice([0, 1, 2, 3])\n",
    "       else:\n",
    "          return self.argmax(self.Qfunction[state])\n",
    "  \n",
    "\n",
    "   def update(self, reward_vector, state, action):\n",
    "\n",
    "       reward = reward_vector @ self.vector_gamma\n",
    "\n",
    "       pi = np.zeros((4, ))\n",
    "       pi[action] = 1 - self.epsilon + self.epsilon/4\n",
    "       pi[~action] = self.epsilon/4\n",
    "       \n",
    "       Value_average = pi @ self.Qfunction[state]\n",
    "          \n",
    "       self.Qfunction[self.saved_state][self.saved_action] += self.alpha*(reward + (self.gamma**(self.n_steps))*Value_average \\\n",
    "                                                              - self.Qfunction[self.saved_state][self.saved_action])\n",
    "\n",
    "   def end(self, reward_vector):\n",
    "\n",
    "       size_reward_vector = len(reward_vector)\n",
    "       reward = reward_vector @ self.vector_gamma[:size_reward_vector]\n",
    "  \n",
    "       self.Qfunction[self.saved_state][self.saved_action] += self.alpha*(reward \\\n",
    "                                                              - self.Qfunction[self.saved_state][self.saved_action])"
   ]
  },
  {
   "cell_type": "code",
   "execution_count": 10,
   "metadata": {
    "id": "UEbvFar1SoAu"
   },
   "outputs": [],
   "source": [
    "class TDErrorNstepsCliffAgent(BaseNStepsCliffAgent):\n",
    "     \n",
    "   def policy(self, state):\n",
    "\n",
    "       if self.random_generator.uniform(0, 1)<self.epsilon:\n",
    "          return self.random_generator.choice([0, 1, 2, 3])\n",
    "       else:\n",
    "          return self.argmax(self.Qfunction[state])\n",
    "  \n",
    "\n",
    "   def update(self, G):\n",
    "       \n",
    "       self.Qfunction[self.saved_state][self.saved_action] += self.alpha*(G - self.Qfunction[self.saved_state][self.saved_action])"
   ]
  },
  {
   "cell_type": "code",
   "execution_count": 11,
   "metadata": {
    "id": "Nyacu9YZF6o_"
   },
   "outputs": [],
   "source": [
    "from scipy.special import softmax\n",
    "\n",
    "class OffPolicySarsaNstepsCliffAgent(BaseNStepsCliffAgent):\n",
    "\n",
    "   def start(self, state):\n",
    "\n",
    "       self.saved_state = state\n",
    "       self.saved_action, b = self.behavioral_policy(state)\n",
    "\n",
    "       return self.saved_action, b\n",
    "\n",
    "   def policy(self,  A_behave, state):\n",
    "       A = None\n",
    "       if self.random_generator.uniform(0, 1)<self.epsilon:\n",
    "          A = self.random_generator.choice([0, 1, 2, 3])\n",
    "       else:\n",
    "          A = self.argmax(self.Qfunction[state])\n",
    "\n",
    "       p = np.zeros((4,))\n",
    "       p[A] = 1 - self.epsilon + self.epsilon/4\n",
    "       p[~A] = self.epsilon/4\n",
    "\n",
    "       return p[A_behave]\n",
    "\n",
    "   def behavioral_policy(self, state):\n",
    "\n",
    "       b = softmax(self.Qfunction[state])\n",
    "       A = self.random_generator.choice([0, 1, 2, 3], p=b)\n",
    "       return A, b[A]\n",
    "  \n",
    "\n",
    "   def update(self, reward_vector, pi_vector, b_vector, state, action):\n",
    "\n",
    "       reward = reward_vector @ self.vector_gamma\n",
    "       ro = np.prod(pi_vector/b_vector)\n",
    "\n",
    "       Qvalue = self.Qfunction[state][action]\n",
    "          \n",
    "       self.Qfunction[self.saved_state][self.saved_action] += self.alpha*ro*(reward + (self.gamma**(self.n_steps))*Qvalue \\\n",
    "                                                              - self.Qfunction[self.saved_state][self.saved_action])\n",
    "\n",
    "   def end(self, reward_vector, pi_vector, b_vector):\n",
    "\n",
    "       size_reward_vector = len(reward_vector)\n",
    "       reward = reward_vector @ self.vector_gamma[:size_reward_vector]\n",
    "       ro = np.prod(pi_vector/b_vector)\n",
    "  \n",
    "       self.Qfunction[self.saved_state][self.saved_action] += self.alpha*ro*(reward \\\n",
    "                                                              - self.Qfunction[self.saved_state][self.saved_action])"
   ]
  },
  {
   "cell_type": "code",
   "execution_count": 12,
   "metadata": {
    "id": "1QK0V20ZFfyO"
   },
   "outputs": [],
   "source": [
    "from copy import deepcopy\n",
    "\n",
    "def generate_episode(env, agent, show = True):\n",
    "\n",
    "    t = 0\n",
    "    T = 456400000000\n",
    "    tay = 0\n",
    "    n = deepcopy(agent.n_steps)\n",
    "\n",
    "    stat_R = np.array([])\n",
    "    stat_S = {}\n",
    "    stat_A = {}\n",
    "\n",
    "    S0 = env.reset()\n",
    "    A0 = agent.start(S0)\n",
    "\n",
    "    stat_S[t] = S0\n",
    "    stat_A[t] = A0\n",
    "    \n",
    "    while tay != T-1:\n",
    "\n",
    "      if t<T: \n",
    "\n",
    "         S, reward, done = env.step(stat_A[t])\n",
    "\n",
    "         stat_S[t+1] = S\n",
    "         stat_R = np.append(stat_R, reward)\n",
    "\n",
    "         if show:\n",
    "            env.render(q_values=agent.Qfunction.copy(), \n",
    "                       action=stat_A[t], \n",
    "                       max_q=True, colorize_q=True)\n",
    "         \n",
    "            ipythondisplay.clear_output(wait=True)\n",
    "            ipythondisplay.display(plt.gcf())\n",
    "\n",
    "         if done:\n",
    "            T = t + 1\n",
    "         else:\n",
    "            A = agent.policy(S)\n",
    "            stat_A[t+1] = A\n",
    "\n",
    "      tay = t - n + 1\n",
    "      if tay>=0:\n",
    "         agent.save_state(stat_S[tay], stat_A[tay])\n",
    "\n",
    "         if tay+n<T:\n",
    "            agent.update(stat_R[tay:tay+n], stat_S[tay+n], stat_A[tay+n])\n",
    "         else:\n",
    "            agent.end(stat_R[tay:tay+n])\n",
    "\n",
    "      t+=1\n",
    "\n",
    "      if show:\n",
    "         ipythondisplay.clear_output(wait=True)\n",
    "\n",
    "    return stat_R @ np.array([agent.gamma**(i) for i in range(len(stat_R))])"
   ]
  },
  {
   "cell_type": "code",
   "execution_count": 13,
   "metadata": {
    "id": "2AILM84gM9ka"
   },
   "outputs": [],
   "source": [
    "from copy import deepcopy\n",
    "\n",
    "def generate_episodeTDError(env, agent, show = True):\n",
    "\n",
    "    t = 0\n",
    "    T = 456400000000\n",
    "    tay = 0\n",
    "    n = deepcopy(agent.n_steps)\n",
    "    gamma = deepcopy(agent.gamma)\n",
    "\n",
    "    stat_R = np.array([])\n",
    "    stat_Q = {-1: 0}\n",
    "    stat_S = {}\n",
    "    stat_A = {}\n",
    "\n",
    "    S0 = env.reset()\n",
    "    A0 = agent.start(S0)\n",
    "\n",
    "    stat_S[t] = S0\n",
    "    stat_A[t] = A0\n",
    "    \n",
    "    while tay != T-1:\n",
    "\n",
    "      if t<T: \n",
    "\n",
    "         S, reward, done = env.step(stat_A[t])\n",
    "\n",
    "         stat_S[t+1] = S\n",
    "         stat_R = np.append(stat_R, reward)\n",
    "\n",
    "         if show:\n",
    "            env.render(q_values=agent.Qfunction.copy(), \n",
    "                       action=stat_A[t], \n",
    "                       max_q=True, colorize_q=True)\n",
    "         \n",
    "            ipythondisplay.clear_output(wait=True)\n",
    "            ipythondisplay.display(plt.gcf())\n",
    "\n",
    "         if done:\n",
    "            T = t + 1\n",
    "            stat_Q[t] = 0\n",
    "         else:\n",
    "            A = agent.policy(S)\n",
    "            stat_A[t+1] = A\n",
    "            stat_Q[t] = agent.Qfunction[S][A]\n",
    "\n",
    "      tay = t - n + 1\n",
    "      if tay>=0:\n",
    "         agent.save_state(stat_S[tay], stat_A[tay])\n",
    "\n",
    "         G = stat_Q[tay-1]\n",
    "         for i in range(tay, min(tay+n, T)):\n",
    "             G += (gamma)**(i-tay)*(stat_R[i] + gamma*stat_Q[i] - stat_Q[i-1])\n",
    "\n",
    "         agent.update(G) \n",
    "\n",
    "      t+=1\n",
    "\n",
    "      if show:\n",
    "         ipythondisplay.clear_output(wait=True)\n",
    "\n",
    "    return stat_R @ np.array([agent.gamma**(i) for i in range(len(stat_R))])"
   ]
  },
  {
   "cell_type": "code",
   "execution_count": 14,
   "metadata": {
    "id": "S9MPB-GINHmn"
   },
   "outputs": [],
   "source": [
    "from copy import deepcopy\n",
    "\n",
    "def generate_episode_offpolicy(env, agent, show = True):\n",
    "\n",
    "    t = 0\n",
    "    T = 456400000000\n",
    "    tay = 0\n",
    "    n = deepcopy(agent.n_steps)\n",
    "\n",
    "    stat_R = np.array([])\n",
    "    stat_pi = np.array([])\n",
    "    stat_b = np.array([])\n",
    "    stat_S = {}\n",
    "    stat_A = {}\n",
    "\n",
    "    S0 = env.reset()\n",
    "    A0, b0 = agent.start(S0)\n",
    "    pi0 = agent.policy(A0, S0)\n",
    "\n",
    "    stat_S[t] = S0\n",
    "    stat_A[t] = A0\n",
    "\n",
    "    stat_pi = np.append(stat_pi, pi0)\n",
    "    stat_b = np.append(stat_b, b0)\n",
    "    \n",
    "    while tay != T-1:\n",
    "\n",
    "      if t<T: \n",
    "\n",
    "         S, reward, done = env.step(stat_A[t])\n",
    "\n",
    "         stat_S[t+1] = S\n",
    "         stat_R = np.append(stat_R, reward)\n",
    "\n",
    "         if show:\n",
    "            env.render(q_values=agent.Qfunction.copy(), \n",
    "                       action=stat_A[t], \n",
    "                       max_q=True, colorize_q=True)\n",
    "         \n",
    "            ipythondisplay.clear_output(wait=True)\n",
    "            ipythondisplay.display(plt.gcf())\n",
    "\n",
    "         if done:\n",
    "            T = t + 1\n",
    "         else:\n",
    "            A, b = agent.behavioral_policy(S)\n",
    "            pi = agent.policy(A, S)\n",
    "\n",
    "            stat_A[t+1] = A\n",
    "            stat_pi = np.append(stat_pi, pi)\n",
    "            stat_b = np.append(stat_b, b)\n",
    "\n",
    "      tay = t - n + 1\n",
    "      if tay>=0:\n",
    "         agent.save_state(stat_S[tay], stat_A[tay])\n",
    "\n",
    "         if tay+n<T:\n",
    "            agent.update(stat_R[tay:tay+n],\n",
    "                         stat_pi[tay+1:tay+n+1], \n",
    "                         stat_b[tay+1:tay+n+1], \n",
    "                         stat_S[tay+n], \n",
    "                         stat_A[tay+n])\n",
    "         else:\n",
    "            agent.end(stat_R[tay:T+1],\n",
    "                      stat_pi[tay+1:T+1], \n",
    "                      stat_b[tay+1:T+1], )\n",
    "\n",
    "      t+=1\n",
    "\n",
    "      if show:\n",
    "         ipythondisplay.clear_output(wait=True)\n",
    "\n",
    "    return stat_R @ np.array([agent.gamma**(i) for i in range(len(stat_R))])"
   ]
  },
  {
   "cell_type": "code",
   "execution_count": 15,
   "metadata": {
    "id": "f4dPGo09AWrA"
   },
   "outputs": [],
   "source": [
    "from joblib import load, dump\n",
    "\n",
    "save_path = '/content/drive/MyDrive/results_cliffworld/'"
   ]
  },
  {
   "cell_type": "code",
   "execution_count": null,
   "metadata": {
    "colab": {
     "base_uri": "https://localhost:8080/",
     "height": 411
    },
    "id": "ISJvjoc72Iq6",
    "outputId": "6158e77e-6baa-467c-f7c3-7d02934e3139"
   },
   "outputs": [
    {
     "data": {
      "image/png": "[encoded data removed]",
      "text/plain": [
       "<Figure size 1200x400 with 1 Axes>"
      ]
     },
     "metadata": {},
     "output_type": "display_data"
    }
   ],
   "source": [
    "n_experiments = 2000\n",
    "n_episodes = 5000\n",
    "\n",
    "rewards = np.zeros((n_experiments, n_episodes))\n",
    "\n",
    "for experiment in trange(n_experiments):\n",
    "\n",
    "    env = GridWorld(True)\n",
    "\n",
    "    agent = SarsaNstepsCliffAgent(alpha=0.01, \n",
    "                                  gamma=0.99, \n",
    "                                  epsilon=0.01, \n",
    "                                  environment=env,\n",
    "                                  seed=experiment,\n",
    "                                  n_steps=3)\n",
    "    for episode in range(n_episodes):\n",
    "        rewards[experiment][episode] = generate_episode(env, agent, show=True)\n",
    "\n",
    "agent3StepsSarsareward = rewards.mean(0).copy()"
   ]
  },
  {
   "cell_type": "code",
   "execution_count": null,
   "metadata": {
    "colab": {
     "base_uri": "https://localhost:8080/"
    },
    "id": "SqqLCELgApYY",
    "outputId": "9a99c9e9-26b1-4467-92d9-e41092b3e22a"
   },
   "outputs": [
    {
     "data": {
      "text/plain": [
       "['/content/drive/MyDrive/results_cliffworld/agent3StepsSarsareward.pkl']"
      ]
     },
     "execution_count": 11,
     "metadata": {
      "tags": []
     },
     "output_type": "execute_result"
    }
   ],
   "source": [
    "dump(agent3StepsSarsareward, save_path + 'agent3StepsSarsareward.pkl')"
   ]
  },
  {
   "cell_type": "code",
   "execution_count": null,
   "metadata": {
    "colab": {
     "background_save": true,
     "base_uri": "https://localhost:8080/"
    },
    "id": "Xn4lcrYz_8d_",
    "outputId": "1621fab7-33c4-42a1-d0d2-a00bb2a0eeb8"
   },
   "outputs": [
    {
     "name": "stderr",
     "output_type": "stream",
     "text": [
      "100%|██████████| 2000/2000 [3:37:13<00:00,  6.52s/it]\n"
     ]
    }
   ],
   "source": [
    "n_experiments = 2000\n",
    "n_episodes = 5000\n",
    "\n",
    "rewards = np.zeros((n_experiments, n_episodes))\n",
    "\n",
    "for experiment in trange(n_experiments):\n",
    "\n",
    "    env = GridWorld(False)\n",
    "\n",
    "    agent = SarsaNstepsCliffAgent(alpha=0.01, \n",
    "                                  gamma=0.99, \n",
    "                                  epsilon=0.01, \n",
    "                                  environment=env,\n",
    "                                  seed=experiment,\n",
    "                                  n_steps=1)\n",
    "    for episode in range(n_episodes):\n",
    "        rewards[experiment][episode] = generate_episode(env, agent, show=False)\n",
    "      \n",
    "agent1StepsSarsareward = rewards.mean(0).copy()"
   ]
  },
  {
   "cell_type": "code",
   "execution_count": null,
   "metadata": {
    "colab": {
     "background_save": true
    },
    "id": "68Vi06EKA5hS",
    "outputId": "b91fb2ec-06ef-4eb8-ca19-663bc2d9e69d"
   },
   "outputs": [
    {
     "data": {
      "text/plain": [
       "['/content/drive/MyDrive/results_cliffworld/agent1StepsSarsareward.pkl']"
      ]
     },
     "execution_count": 0,
     "metadata": {
      "tags": []
     },
     "output_type": "execute_result"
    }
   ],
   "source": [
    "dump(agent1StepsSarsareward, save_path + 'agent1StepsSarsareward.pkl')"
   ]
  },
  {
   "cell_type": "code",
   "execution_count": null,
   "metadata": {
    "colab": {
     "base_uri": "https://localhost:8080/"
    },
    "id": "2IwnAGgLwv_B",
    "outputId": "c6209161-8188-4add-98d0-ab2eeb293b00"
   },
   "outputs": [
    {
     "name": "stderr",
     "output_type": "stream",
     "text": [
      "100%|██████████| 2000/2000 [5:06:31<00:00,  9.20s/it]\n"
     ]
    }
   ],
   "source": [
    "n_experiments = 2000\n",
    "n_episodes = 5000\n",
    "\n",
    "rewards = np.zeros((n_experiments, n_episodes))\n",
    "\n",
    "for experiment in trange(n_experiments):\n",
    "\n",
    "    env = GridWorld(False)\n",
    "\n",
    "    agent = ExpectedSarsaNstepsCliffAgent(alpha=0.01, \n",
    "                                  gamma=0.99, \n",
    "                                  epsilon=0.01, \n",
    "                                  environment=env,\n",
    "                                  seed=experiment,\n",
    "                                  n_steps=3)\n",
    "    for episode in range(n_episodes):\n",
    "        rewards[experiment][episode] = generate_episode(env, agent, show=False)\n",
    "\n",
    "agent3StepsExpectedSarsareward = rewards.mean(0).copy()"
   ]
  },
  {
   "cell_type": "code",
   "execution_count": null,
   "metadata": {
    "colab": {
     "base_uri": "https://localhost:8080/"
    },
    "id": "uxDt6Pm_A-M3",
    "outputId": "b172548f-0f8f-4362-e3a0-56e9346681a8"
   },
   "outputs": [
    {
     "data": {
      "text/plain": [
       "['/content/drive/MyDrive/results_cliffworld/agent3StepsExpectedSarsareward.pkl']"
      ]
     },
     "execution_count": 14,
     "metadata": {
      "tags": []
     },
     "output_type": "execute_result"
    }
   ],
   "source": [
    "dump(agent3StepsExpectedSarsareward, save_path + 'agent3StepsExpectedSarsareward.pkl')"
   ]
  },
  {
   "cell_type": "code",
   "execution_count": null,
   "metadata": {
    "colab": {
     "base_uri": "https://localhost:8080/"
    },
    "id": "suPfnjWAwwG-",
    "outputId": "a68a93f9-a207-4e5b-d961-8e748369fea5"
   },
   "outputs": [
    {
     "name": "stderr",
     "output_type": "stream",
     "text": [
      "  8%|▊         | 151/2000 [27:31<4:51:16,  9.45s/it]"
     ]
    }
   ],
   "source": [
    "n_experiments = 2000\n",
    "n_episodes = 5000\n",
    "\n",
    "rewards = np.zeros((n_experiments, n_episodes))\n",
    "\n",
    "for experiment in trange(n_experiments):\n",
    "\n",
    "    env = GridWorld(False)\n",
    "\n",
    "    agent = ExpectedSarsaNstepsCliffAgent(alpha=0.01, \n",
    "                                  gamma=0.99, \n",
    "                                  epsilon=0.01, \n",
    "                                  environment=env,\n",
    "                                  seed=experiment,\n",
    "                                  n_steps=1)\n",
    "    for episode in range(n_episodes):\n",
    "        rewards[experiment][episode] = generate_episode(env, agent, show=False)\n",
    "\n",
    "agent1StepsExpectedSarsareward = rewards.mean(0).copy()"
   ]
  },
  {
   "cell_type": "code",
   "execution_count": null,
   "metadata": {
    "id": "E3HfUozCBDVv"
   },
   "outputs": [],
   "source": [
    "dump(agent1StepsExpectedSarsareward, save_path + 'agent1StepsExpectedSarsareward.pkl')"
   ]
  },
  {
   "cell_type": "code",
   "execution_count": null,
   "metadata": {
    "colab": {
     "base_uri": "https://localhost:8080/",
     "height": 432
    },
    "id": "pbzhxI23lK8d",
    "outputId": "fe8565df-6c95-40af-c839-ccbda2da7788"
   },
   "outputs": [
    {
     "name": "stderr",
     "output_type": "stream",
     "text": [
      "  0%|          | 0/2000 [16:27<?, ?it/s]\n"
     ]
    },
    {
     "ename": "KeyboardInterrupt",
     "evalue": "ignored",
     "output_type": "error",
     "traceback": [
      "\u001b[0;31m---------------------------------------------------------------------------\u001b[0m",
      "\u001b[0;31mKeyboardInterrupt\u001b[0m                         Traceback (most recent call last)",
      "\u001b[0;32m<ipython-input-19-7e9e0b63713a>\u001b[0m in \u001b[0;36m<module>\u001b[0;34m()\u001b[0m\n\u001b[1;32m     15\u001b[0m                                   n_steps=2)\n\u001b[1;32m     16\u001b[0m     \u001b[0;32mfor\u001b[0m \u001b[0mepisode\u001b[0m \u001b[0;32min\u001b[0m \u001b[0mrange\u001b[0m\u001b[0;34m(\u001b[0m\u001b[0mn_episodes\u001b[0m\u001b[0;34m)\u001b[0m\u001b[0;34m:\u001b[0m\u001b[0;34m\u001b[0m\u001b[0;34m\u001b[0m\u001b[0m\n\u001b[0;32m---> 17\u001b[0;31m         \u001b[0mrewards\u001b[0m\u001b[0;34m[\u001b[0m\u001b[0mexperiment\u001b[0m\u001b[0;34m]\u001b[0m\u001b[0;34m[\u001b[0m\u001b[0mepisode\u001b[0m\u001b[0;34m]\u001b[0m \u001b[0;34m=\u001b[0m \u001b[0mgenerate_episodeTDError\u001b[0m\u001b[0;34m(\u001b[0m\u001b[0menv\u001b[0m\u001b[0;34m,\u001b[0m \u001b[0magent\u001b[0m\u001b[0;34m,\u001b[0m \u001b[0mshow\u001b[0m\u001b[0;34m=\u001b[0m\u001b[0;32mTrue\u001b[0m\u001b[0;34m)\u001b[0m\u001b[0;34m\u001b[0m\u001b[0;34m\u001b[0m\u001b[0m\n\u001b[0m\u001b[1;32m     18\u001b[0m \u001b[0;34m\u001b[0m\u001b[0m\n\u001b[1;32m     19\u001b[0m \u001b[0magent1StepsTDErrorreward\u001b[0m \u001b[0;34m=\u001b[0m \u001b[0mrewards\u001b[0m\u001b[0;34m.\u001b[0m\u001b[0mmean\u001b[0m\u001b[0;34m(\u001b[0m\u001b[0;36m0\u001b[0m\u001b[0;34m)\u001b[0m\u001b[0;34m.\u001b[0m\u001b[0mcopy\u001b[0m\u001b[0;34m(\u001b[0m\u001b[0;34m)\u001b[0m\u001b[0;34m\u001b[0m\u001b[0;34m\u001b[0m\u001b[0m\n",
      "\u001b[0;32m<ipython-input-13-afed6e3037a7>\u001b[0m in \u001b[0;36mgenerate_episodeTDError\u001b[0;34m(env, agent, show)\u001b[0m\n\u001b[1;32m     35\u001b[0m \u001b[0;34m\u001b[0m\u001b[0m\n\u001b[1;32m     36\u001b[0m             \u001b[0mipythondisplay\u001b[0m\u001b[0;34m.\u001b[0m\u001b[0mclear_output\u001b[0m\u001b[0;34m(\u001b[0m\u001b[0mwait\u001b[0m\u001b[0;34m=\u001b[0m\u001b[0;32mTrue\u001b[0m\u001b[0;34m)\u001b[0m\u001b[0;34m\u001b[0m\u001b[0;34m\u001b[0m\u001b[0m\n\u001b[0;32m---> 37\u001b[0;31m             \u001b[0mipythondisplay\u001b[0m\u001b[0;34m.\u001b[0m\u001b[0mdisplay\u001b[0m\u001b[0;34m(\u001b[0m\u001b[0mplt\u001b[0m\u001b[0;34m.\u001b[0m\u001b[0mgcf\u001b[0m\u001b[0;34m(\u001b[0m\u001b[0;34m)\u001b[0m\u001b[0;34m)\u001b[0m\u001b[0;34m\u001b[0m\u001b[0;34m\u001b[0m\u001b[0m\n\u001b[0m\u001b[1;32m     38\u001b[0m \u001b[0;34m\u001b[0m\u001b[0m\n\u001b[1;32m     39\u001b[0m          \u001b[0;32mif\u001b[0m \u001b[0mdone\u001b[0m\u001b[0;34m:\u001b[0m\u001b[0;34m\u001b[0m\u001b[0;34m\u001b[0m\u001b[0m\n",
      "\u001b[0;32m/usr/local/lib/python3.7/dist-packages/IPython/core/display.py\u001b[0m in \u001b[0;36mdisplay\u001b[0;34m(*objs, **kwargs)\u001b[0m\n\u001b[1;32m    304\u001b[0m             \u001b[0mpublish_display_data\u001b[0m\u001b[0;34m(\u001b[0m\u001b[0mdata\u001b[0m\u001b[0;34m=\u001b[0m\u001b[0mobj\u001b[0m\u001b[0;34m,\u001b[0m \u001b[0mmetadata\u001b[0m\u001b[0;34m=\u001b[0m\u001b[0mmetadata\u001b[0m\u001b[0;34m,\u001b[0m \u001b[0;34m**\u001b[0m\u001b[0mkwargs\u001b[0m\u001b[0;34m)\u001b[0m\u001b[0;34m\u001b[0m\u001b[0;34m\u001b[0m\u001b[0m\n\u001b[1;32m    305\u001b[0m         \u001b[0;32melse\u001b[0m\u001b[0;34m:\u001b[0m\u001b[0;34m\u001b[0m\u001b[0;34m\u001b[0m\u001b[0m\n\u001b[0;32m--> 306\u001b[0;31m             \u001b[0mformat_dict\u001b[0m\u001b[0;34m,\u001b[0m \u001b[0mmd_dict\u001b[0m \u001b[0;34m=\u001b[0m \u001b[0mformat\u001b[0m\u001b[0;34m(\u001b[0m\u001b[0mobj\u001b[0m\u001b[0;34m,\u001b[0m \u001b[0minclude\u001b[0m\u001b[0;34m=\u001b[0m\u001b[0minclude\u001b[0m\u001b[0;34m,\u001b[0m \u001b[0mexclude\u001b[0m\u001b[0;34m=\u001b[0m\u001b[0mexclude\u001b[0m\u001b[0;34m)\u001b[0m\u001b[0;34m\u001b[0m\u001b[0;34m\u001b[0m\u001b[0m\n\u001b[0m\u001b[1;32m    307\u001b[0m             \u001b[0;32mif\u001b[0m \u001b[0;32mnot\u001b[0m \u001b[0mformat_dict\u001b[0m\u001b[0;34m:\u001b[0m\u001b[0;34m\u001b[0m\u001b[0;34m\u001b[0m\u001b[0m\n\u001b[1;32m    308\u001b[0m                 \u001b[0;31m# nothing to display (e.g. _ipython_display_ took over)\u001b[0m\u001b[0;34m\u001b[0m\u001b[0;34m\u001b[0m\u001b[0;34m\u001b[0m\u001b[0m\n",
      "\u001b[0;32m/usr/local/lib/python3.7/dist-packages/IPython/core/formatters.py\u001b[0m in \u001b[0;36mformat\u001b[0;34m(self, obj, include, exclude)\u001b[0m\n\u001b[1;32m    171\u001b[0m             \u001b[0mmd\u001b[0m \u001b[0;34m=\u001b[0m \u001b[0;32mNone\u001b[0m\u001b[0;34m\u001b[0m\u001b[0;34m\u001b[0m\u001b[0m\n\u001b[1;32m    172\u001b[0m             \u001b[0;32mtry\u001b[0m\u001b[0;34m:\u001b[0m\u001b[0;34m\u001b[0m\u001b[0;34m\u001b[0m\u001b[0m\n\u001b[0;32m--> 173\u001b[0;31m                 \u001b[0mdata\u001b[0m \u001b[0;34m=\u001b[0m \u001b[0mformatter\u001b[0m\u001b[0;34m(\u001b[0m\u001b[0mobj\u001b[0m\u001b[0;34m)\u001b[0m\u001b[0;34m\u001b[0m\u001b[0;34m\u001b[0m\u001b[0m\n\u001b[0m\u001b[1;32m    174\u001b[0m             \u001b[0;32mexcept\u001b[0m\u001b[0;34m:\u001b[0m\u001b[0;34m\u001b[0m\u001b[0;34m\u001b[0m\u001b[0m\n\u001b[1;32m    175\u001b[0m                 \u001b[0;31m# FIXME: log the exception\u001b[0m\u001b[0;34m\u001b[0m\u001b[0;34m\u001b[0m\u001b[0;34m\u001b[0m\u001b[0m\n",
      "\u001b[0;32m<decorator-gen-2>\u001b[0m in \u001b[0;36m__call__\u001b[0;34m(self, obj)\u001b[0m\n",
      "\u001b[0;32m/usr/local/lib/python3.7/dist-packages/IPython/core/formatters.py\u001b[0m in \u001b[0;36mcatch_format_error\u001b[0;34m(method, self, *args, **kwargs)\u001b[0m\n\u001b[1;32m    215\u001b[0m     \u001b[0;34m\"\"\"show traceback on failed format call\"\"\"\u001b[0m\u001b[0;34m\u001b[0m\u001b[0;34m\u001b[0m\u001b[0m\n\u001b[1;32m    216\u001b[0m     \u001b[0;32mtry\u001b[0m\u001b[0;34m:\u001b[0m\u001b[0;34m\u001b[0m\u001b[0;34m\u001b[0m\u001b[0m\n\u001b[0;32m--> 217\u001b[0;31m         \u001b[0mr\u001b[0m \u001b[0;34m=\u001b[0m \u001b[0mmethod\u001b[0m\u001b[0;34m(\u001b[0m\u001b[0mself\u001b[0m\u001b[0;34m,\u001b[0m \u001b[0;34m*\u001b[0m\u001b[0margs\u001b[0m\u001b[0;34m,\u001b[0m \u001b[0;34m**\u001b[0m\u001b[0mkwargs\u001b[0m\u001b[0;34m)\u001b[0m\u001b[0;34m\u001b[0m\u001b[0;34m\u001b[0m\u001b[0m\n\u001b[0m\u001b[1;32m    218\u001b[0m     \u001b[0;32mexcept\u001b[0m \u001b[0mNotImplementedError\u001b[0m\u001b[0;34m:\u001b[0m\u001b[0;34m\u001b[0m\u001b[0;34m\u001b[0m\u001b[0m\n\u001b[1;32m    219\u001b[0m         \u001b[0;31m# don't warn on NotImplementedErrors\u001b[0m\u001b[0;34m\u001b[0m\u001b[0;34m\u001b[0m\u001b[0;34m\u001b[0m\u001b[0m\n",
      "\u001b[0;32m/usr/local/lib/python3.7/dist-packages/IPython/core/formatters.py\u001b[0m in \u001b[0;36m__call__\u001b[0;34m(self, obj)\u001b[0m\n\u001b[1;32m    332\u001b[0m                 \u001b[0;32mpass\u001b[0m\u001b[0;34m\u001b[0m\u001b[0;34m\u001b[0m\u001b[0m\n\u001b[1;32m    333\u001b[0m             \u001b[0;32melse\u001b[0m\u001b[0;34m:\u001b[0m\u001b[0;34m\u001b[0m\u001b[0;34m\u001b[0m\u001b[0m\n\u001b[0;32m--> 334\u001b[0;31m                 \u001b[0;32mreturn\u001b[0m \u001b[0mprinter\u001b[0m\u001b[0;34m(\u001b[0m\u001b[0mobj\u001b[0m\u001b[0;34m)\u001b[0m\u001b[0;34m\u001b[0m\u001b[0;34m\u001b[0m\u001b[0m\n\u001b[0m\u001b[1;32m    335\u001b[0m             \u001b[0;31m# Finally look for special method names\u001b[0m\u001b[0;34m\u001b[0m\u001b[0;34m\u001b[0m\u001b[0;34m\u001b[0m\u001b[0m\n\u001b[1;32m    336\u001b[0m             \u001b[0mmethod\u001b[0m \u001b[0;34m=\u001b[0m \u001b[0mget_real_method\u001b[0m\u001b[0;34m(\u001b[0m\u001b[0mobj\u001b[0m\u001b[0;34m,\u001b[0m \u001b[0mself\u001b[0m\u001b[0;34m.\u001b[0m\u001b[0mprint_method\u001b[0m\u001b[0;34m)\u001b[0m\u001b[0;34m\u001b[0m\u001b[0;34m\u001b[0m\u001b[0m\n",
      "\u001b[0;32m/usr/local/lib/python3.7/dist-packages/IPython/core/pylabtools.py\u001b[0m in \u001b[0;36m<lambda>\u001b[0;34m(fig)\u001b[0m\n\u001b[1;32m    239\u001b[0m \u001b[0;34m\u001b[0m\u001b[0m\n\u001b[1;32m    240\u001b[0m     \u001b[0;32mif\u001b[0m \u001b[0;34m'png'\u001b[0m \u001b[0;32min\u001b[0m \u001b[0mformats\u001b[0m\u001b[0;34m:\u001b[0m\u001b[0;34m\u001b[0m\u001b[0;34m\u001b[0m\u001b[0m\n\u001b[0;32m--> 241\u001b[0;31m         \u001b[0mpng_formatter\u001b[0m\u001b[0;34m.\u001b[0m\u001b[0mfor_type\u001b[0m\u001b[0;34m(\u001b[0m\u001b[0mFigure\u001b[0m\u001b[0;34m,\u001b[0m \u001b[0;32mlambda\u001b[0m \u001b[0mfig\u001b[0m\u001b[0;34m:\u001b[0m \u001b[0mprint_figure\u001b[0m\u001b[0;34m(\u001b[0m\u001b[0mfig\u001b[0m\u001b[0;34m,\u001b[0m \u001b[0;34m'png'\u001b[0m\u001b[0;34m,\u001b[0m \u001b[0;34m**\u001b[0m\u001b[0mkwargs\u001b[0m\u001b[0;34m)\u001b[0m\u001b[0;34m)\u001b[0m\u001b[0;34m\u001b[0m\u001b[0;34m\u001b[0m\u001b[0m\n\u001b[0m\u001b[1;32m    242\u001b[0m     \u001b[0;32mif\u001b[0m \u001b[0;34m'retina'\u001b[0m \u001b[0;32min\u001b[0m \u001b[0mformats\u001b[0m \u001b[0;32mor\u001b[0m \u001b[0;34m'png2x'\u001b[0m \u001b[0;32min\u001b[0m \u001b[0mformats\u001b[0m\u001b[0;34m:\u001b[0m\u001b[0;34m\u001b[0m\u001b[0;34m\u001b[0m\u001b[0m\n\u001b[1;32m    243\u001b[0m         \u001b[0mpng_formatter\u001b[0m\u001b[0;34m.\u001b[0m\u001b[0mfor_type\u001b[0m\u001b[0;34m(\u001b[0m\u001b[0mFigure\u001b[0m\u001b[0;34m,\u001b[0m \u001b[0;32mlambda\u001b[0m \u001b[0mfig\u001b[0m\u001b[0;34m:\u001b[0m \u001b[0mretina_figure\u001b[0m\u001b[0;34m(\u001b[0m\u001b[0mfig\u001b[0m\u001b[0;34m,\u001b[0m \u001b[0;34m**\u001b[0m\u001b[0mkwargs\u001b[0m\u001b[0;34m)\u001b[0m\u001b[0;34m)\u001b[0m\u001b[0;34m\u001b[0m\u001b[0;34m\u001b[0m\u001b[0m\n",
      "\u001b[0;32m/usr/local/lib/python3.7/dist-packages/IPython/core/pylabtools.py\u001b[0m in \u001b[0;36mprint_figure\u001b[0;34m(fig, fmt, bbox_inches, **kwargs)\u001b[0m\n\u001b[1;32m    123\u001b[0m \u001b[0;34m\u001b[0m\u001b[0m\n\u001b[1;32m    124\u001b[0m     \u001b[0mbytes_io\u001b[0m \u001b[0;34m=\u001b[0m \u001b[0mBytesIO\u001b[0m\u001b[0;34m(\u001b[0m\u001b[0;34m)\u001b[0m\u001b[0;34m\u001b[0m\u001b[0;34m\u001b[0m\u001b[0m\n\u001b[0;32m--> 125\u001b[0;31m     \u001b[0mfig\u001b[0m\u001b[0;34m.\u001b[0m\u001b[0mcanvas\u001b[0m\u001b[0;34m.\u001b[0m\u001b[0mprint_figure\u001b[0m\u001b[0;34m(\u001b[0m\u001b[0mbytes_io\u001b[0m\u001b[0;34m,\u001b[0m \u001b[0;34m**\u001b[0m\u001b[0mkw\u001b[0m\u001b[0;34m)\u001b[0m\u001b[0;34m\u001b[0m\u001b[0;34m\u001b[0m\u001b[0m\n\u001b[0m\u001b[1;32m    126\u001b[0m     \u001b[0mdata\u001b[0m \u001b[0;34m=\u001b[0m \u001b[0mbytes_io\u001b[0m\u001b[0;34m.\u001b[0m\u001b[0mgetvalue\u001b[0m\u001b[0;34m(\u001b[0m\u001b[0;34m)\u001b[0m\u001b[0;34m\u001b[0m\u001b[0;34m\u001b[0m\u001b[0m\n\u001b[1;32m    127\u001b[0m     \u001b[0;32mif\u001b[0m \u001b[0mfmt\u001b[0m \u001b[0;34m==\u001b[0m \u001b[0;34m'svg'\u001b[0m\u001b[0;34m:\u001b[0m\u001b[0;34m\u001b[0m\u001b[0;34m\u001b[0m\u001b[0m\n",
      "\u001b[0;32m/usr/local/lib/python3.7/dist-packages/matplotlib/backend_bases.py\u001b[0m in \u001b[0;36mprint_figure\u001b[0;34m(self, filename, dpi, facecolor, edgecolor, orientation, format, bbox_inches, **kwargs)\u001b[0m\n\u001b[1;32m   2124\u001b[0m                     \u001b[0morientation\u001b[0m\u001b[0;34m=\u001b[0m\u001b[0morientation\u001b[0m\u001b[0;34m,\u001b[0m\u001b[0;34m\u001b[0m\u001b[0;34m\u001b[0m\u001b[0m\n\u001b[1;32m   2125\u001b[0m                     \u001b[0mbbox_inches_restore\u001b[0m\u001b[0;34m=\u001b[0m\u001b[0m_bbox_inches_restore\u001b[0m\u001b[0;34m,\u001b[0m\u001b[0;34m\u001b[0m\u001b[0;34m\u001b[0m\u001b[0m\n\u001b[0;32m-> 2126\u001b[0;31m                     **kwargs)\n\u001b[0m\u001b[1;32m   2127\u001b[0m             \u001b[0;32mfinally\u001b[0m\u001b[0;34m:\u001b[0m\u001b[0;34m\u001b[0m\u001b[0;34m\u001b[0m\u001b[0m\n\u001b[1;32m   2128\u001b[0m                 \u001b[0;32mif\u001b[0m \u001b[0mbbox_inches\u001b[0m \u001b[0;32mand\u001b[0m \u001b[0mrestore_bbox\u001b[0m\u001b[0;34m:\u001b[0m\u001b[0;34m\u001b[0m\u001b[0;34m\u001b[0m\u001b[0m\n",
      "\u001b[0;32m/usr/local/lib/python3.7/dist-packages/matplotlib/backends/backend_agg.py\u001b[0m in \u001b[0;36mprint_png\u001b[0;34m(self, filename_or_obj, metadata, pil_kwargs, *args, **kwargs)\u001b[0m\n\u001b[1;32m    512\u001b[0m         }\n\u001b[1;32m    513\u001b[0m \u001b[0;34m\u001b[0m\u001b[0m\n\u001b[0;32m--> 514\u001b[0;31m         \u001b[0mFigureCanvasAgg\u001b[0m\u001b[0;34m.\u001b[0m\u001b[0mdraw\u001b[0m\u001b[0;34m(\u001b[0m\u001b[0mself\u001b[0m\u001b[0;34m)\u001b[0m\u001b[0;34m\u001b[0m\u001b[0;34m\u001b[0m\u001b[0m\n\u001b[0m\u001b[1;32m    515\u001b[0m         \u001b[0;32mif\u001b[0m \u001b[0mpil_kwargs\u001b[0m \u001b[0;32mis\u001b[0m \u001b[0;32mnot\u001b[0m \u001b[0;32mNone\u001b[0m\u001b[0;34m:\u001b[0m\u001b[0;34m\u001b[0m\u001b[0;34m\u001b[0m\u001b[0m\n\u001b[1;32m    516\u001b[0m             \u001b[0;32mfrom\u001b[0m \u001b[0mPIL\u001b[0m \u001b[0;32mimport\u001b[0m \u001b[0mImage\u001b[0m\u001b[0;34m\u001b[0m\u001b[0;34m\u001b[0m\u001b[0m\n",
      "\u001b[0;32m/usr/local/lib/python3.7/dist-packages/matplotlib/backends/backend_agg.py\u001b[0m in \u001b[0;36mdraw\u001b[0;34m(self)\u001b[0m\n\u001b[1;32m    391\u001b[0m              (self.toolbar._wait_cursor_for_draw_cm() if self.toolbar\n\u001b[1;32m    392\u001b[0m               else nullcontext()):\n\u001b[0;32m--> 393\u001b[0;31m             \u001b[0mself\u001b[0m\u001b[0;34m.\u001b[0m\u001b[0mfigure\u001b[0m\u001b[0;34m.\u001b[0m\u001b[0mdraw\u001b[0m\u001b[0;34m(\u001b[0m\u001b[0mself\u001b[0m\u001b[0;34m.\u001b[0m\u001b[0mrenderer\u001b[0m\u001b[0;34m)\u001b[0m\u001b[0;34m\u001b[0m\u001b[0;34m\u001b[0m\u001b[0m\n\u001b[0m\u001b[1;32m    394\u001b[0m             \u001b[0;31m# A GUI class may be need to update a window using this draw, so\u001b[0m\u001b[0;34m\u001b[0m\u001b[0;34m\u001b[0m\u001b[0;34m\u001b[0m\u001b[0m\n\u001b[1;32m    395\u001b[0m             \u001b[0;31m# don't forget to call the superclass.\u001b[0m\u001b[0;34m\u001b[0m\u001b[0;34m\u001b[0m\u001b[0;34m\u001b[0m\u001b[0m\n",
      "\u001b[0;32m/usr/local/lib/python3.7/dist-packages/matplotlib/artist.py\u001b[0m in \u001b[0;36mdraw_wrapper\u001b[0;34m(artist, renderer, *args, **kwargs)\u001b[0m\n\u001b[1;32m     36\u001b[0m                 \u001b[0mrenderer\u001b[0m\u001b[0;34m.\u001b[0m\u001b[0mstart_filter\u001b[0m\u001b[0;34m(\u001b[0m\u001b[0;34m)\u001b[0m\u001b[0;34m\u001b[0m\u001b[0;34m\u001b[0m\u001b[0m\n\u001b[1;32m     37\u001b[0m \u001b[0;34m\u001b[0m\u001b[0m\n\u001b[0;32m---> 38\u001b[0;31m             \u001b[0;32mreturn\u001b[0m \u001b[0mdraw\u001b[0m\u001b[0;34m(\u001b[0m\u001b[0martist\u001b[0m\u001b[0;34m,\u001b[0m \u001b[0mrenderer\u001b[0m\u001b[0;34m,\u001b[0m \u001b[0;34m*\u001b[0m\u001b[0margs\u001b[0m\u001b[0;34m,\u001b[0m \u001b[0;34m**\u001b[0m\u001b[0mkwargs\u001b[0m\u001b[0;34m)\u001b[0m\u001b[0;34m\u001b[0m\u001b[0;34m\u001b[0m\u001b[0m\n\u001b[0m\u001b[1;32m     39\u001b[0m         \u001b[0;32mfinally\u001b[0m\u001b[0;34m:\u001b[0m\u001b[0;34m\u001b[0m\u001b[0;34m\u001b[0m\u001b[0m\n\u001b[1;32m     40\u001b[0m             \u001b[0;32mif\u001b[0m \u001b[0martist\u001b[0m\u001b[0;34m.\u001b[0m\u001b[0mget_agg_filter\u001b[0m\u001b[0;34m(\u001b[0m\u001b[0;34m)\u001b[0m \u001b[0;32mis\u001b[0m \u001b[0;32mnot\u001b[0m \u001b[0;32mNone\u001b[0m\u001b[0;34m:\u001b[0m\u001b[0;34m\u001b[0m\u001b[0;34m\u001b[0m\u001b[0m\n",
      "\u001b[0;32m/usr/local/lib/python3.7/dist-packages/matplotlib/figure.py\u001b[0m in \u001b[0;36mdraw\u001b[0;34m(self, renderer)\u001b[0m\n\u001b[1;32m   1734\u001b[0m             \u001b[0mself\u001b[0m\u001b[0;34m.\u001b[0m\u001b[0mpatch\u001b[0m\u001b[0;34m.\u001b[0m\u001b[0mdraw\u001b[0m\u001b[0;34m(\u001b[0m\u001b[0mrenderer\u001b[0m\u001b[0;34m)\u001b[0m\u001b[0;34m\u001b[0m\u001b[0;34m\u001b[0m\u001b[0m\n\u001b[1;32m   1735\u001b[0m             mimage._draw_list_compositing_images(\n\u001b[0;32m-> 1736\u001b[0;31m                 renderer, self, artists, self.suppressComposite)\n\u001b[0m\u001b[1;32m   1737\u001b[0m \u001b[0;34m\u001b[0m\u001b[0m\n\u001b[1;32m   1738\u001b[0m             \u001b[0mrenderer\u001b[0m\u001b[0;34m.\u001b[0m\u001b[0mclose_group\u001b[0m\u001b[0;34m(\u001b[0m\u001b[0;34m'figure'\u001b[0m\u001b[0;34m)\u001b[0m\u001b[0;34m\u001b[0m\u001b[0;34m\u001b[0m\u001b[0m\n",
      "\u001b[0;32m/usr/local/lib/python3.7/dist-packages/matplotlib/image.py\u001b[0m in \u001b[0;36m_draw_list_compositing_images\u001b[0;34m(renderer, parent, artists, suppress_composite)\u001b[0m\n\u001b[1;32m    135\u001b[0m     \u001b[0;32mif\u001b[0m \u001b[0mnot_composite\u001b[0m \u001b[0;32mor\u001b[0m \u001b[0;32mnot\u001b[0m \u001b[0mhas_images\u001b[0m\u001b[0;34m:\u001b[0m\u001b[0;34m\u001b[0m\u001b[0;34m\u001b[0m\u001b[0m\n\u001b[1;32m    136\u001b[0m         \u001b[0;32mfor\u001b[0m \u001b[0ma\u001b[0m \u001b[0;32min\u001b[0m \u001b[0martists\u001b[0m\u001b[0;34m:\u001b[0m\u001b[0;34m\u001b[0m\u001b[0;34m\u001b[0m\u001b[0m\n\u001b[0;32m--> 137\u001b[0;31m             \u001b[0ma\u001b[0m\u001b[0;34m.\u001b[0m\u001b[0mdraw\u001b[0m\u001b[0;34m(\u001b[0m\u001b[0mrenderer\u001b[0m\u001b[0;34m)\u001b[0m\u001b[0;34m\u001b[0m\u001b[0;34m\u001b[0m\u001b[0m\n\u001b[0m\u001b[1;32m    138\u001b[0m     \u001b[0;32melse\u001b[0m\u001b[0;34m:\u001b[0m\u001b[0;34m\u001b[0m\u001b[0;34m\u001b[0m\u001b[0m\n\u001b[1;32m    139\u001b[0m         \u001b[0;31m# Composite any adjacent images together\u001b[0m\u001b[0;34m\u001b[0m\u001b[0;34m\u001b[0m\u001b[0;34m\u001b[0m\u001b[0m\n",
      "\u001b[0;32m/usr/local/lib/python3.7/dist-packages/matplotlib/artist.py\u001b[0m in \u001b[0;36mdraw_wrapper\u001b[0;34m(artist, renderer, *args, **kwargs)\u001b[0m\n\u001b[1;32m     36\u001b[0m                 \u001b[0mrenderer\u001b[0m\u001b[0;34m.\u001b[0m\u001b[0mstart_filter\u001b[0m\u001b[0;34m(\u001b[0m\u001b[0;34m)\u001b[0m\u001b[0;34m\u001b[0m\u001b[0;34m\u001b[0m\u001b[0m\n\u001b[1;32m     37\u001b[0m \u001b[0;34m\u001b[0m\u001b[0m\n\u001b[0;32m---> 38\u001b[0;31m             \u001b[0;32mreturn\u001b[0m \u001b[0mdraw\u001b[0m\u001b[0;34m(\u001b[0m\u001b[0martist\u001b[0m\u001b[0;34m,\u001b[0m \u001b[0mrenderer\u001b[0m\u001b[0;34m,\u001b[0m \u001b[0;34m*\u001b[0m\u001b[0margs\u001b[0m\u001b[0;34m,\u001b[0m \u001b[0;34m**\u001b[0m\u001b[0mkwargs\u001b[0m\u001b[0;34m)\u001b[0m\u001b[0;34m\u001b[0m\u001b[0;34m\u001b[0m\u001b[0m\n\u001b[0m\u001b[1;32m     39\u001b[0m         \u001b[0;32mfinally\u001b[0m\u001b[0;34m:\u001b[0m\u001b[0;34m\u001b[0m\u001b[0;34m\u001b[0m\u001b[0m\n\u001b[1;32m     40\u001b[0m             \u001b[0;32mif\u001b[0m \u001b[0martist\u001b[0m\u001b[0;34m.\u001b[0m\u001b[0mget_agg_filter\u001b[0m\u001b[0;34m(\u001b[0m\u001b[0;34m)\u001b[0m \u001b[0;32mis\u001b[0m \u001b[0;32mnot\u001b[0m \u001b[0;32mNone\u001b[0m\u001b[0;34m:\u001b[0m\u001b[0;34m\u001b[0m\u001b[0;34m\u001b[0m\u001b[0m\n",
      "\u001b[0;32m/usr/local/lib/python3.7/dist-packages/matplotlib/axes/_base.py\u001b[0m in \u001b[0;36mdraw\u001b[0;34m(self, renderer, inframe)\u001b[0m\n\u001b[1;32m   2628\u001b[0m             \u001b[0mrenderer\u001b[0m\u001b[0;34m.\u001b[0m\u001b[0mstop_rasterizing\u001b[0m\u001b[0;34m(\u001b[0m\u001b[0;34m)\u001b[0m\u001b[0;34m\u001b[0m\u001b[0;34m\u001b[0m\u001b[0m\n\u001b[1;32m   2629\u001b[0m \u001b[0;34m\u001b[0m\u001b[0m\n\u001b[0;32m-> 2630\u001b[0;31m         \u001b[0mmimage\u001b[0m\u001b[0;34m.\u001b[0m\u001b[0m_draw_list_compositing_images\u001b[0m\u001b[0;34m(\u001b[0m\u001b[0mrenderer\u001b[0m\u001b[0;34m,\u001b[0m \u001b[0mself\u001b[0m\u001b[0;34m,\u001b[0m \u001b[0martists\u001b[0m\u001b[0;34m)\u001b[0m\u001b[0;34m\u001b[0m\u001b[0;34m\u001b[0m\u001b[0m\n\u001b[0m\u001b[1;32m   2631\u001b[0m \u001b[0;34m\u001b[0m\u001b[0m\n\u001b[1;32m   2632\u001b[0m         \u001b[0mrenderer\u001b[0m\u001b[0;34m.\u001b[0m\u001b[0mclose_group\u001b[0m\u001b[0;34m(\u001b[0m\u001b[0;34m'axes'\u001b[0m\u001b[0;34m)\u001b[0m\u001b[0;34m\u001b[0m\u001b[0;34m\u001b[0m\u001b[0m\n",
      "\u001b[0;32m/usr/local/lib/python3.7/dist-packages/matplotlib/image.py\u001b[0m in \u001b[0;36m_draw_list_compositing_images\u001b[0;34m(renderer, parent, artists, suppress_composite)\u001b[0m\n\u001b[1;32m    135\u001b[0m     \u001b[0;32mif\u001b[0m \u001b[0mnot_composite\u001b[0m \u001b[0;32mor\u001b[0m \u001b[0;32mnot\u001b[0m \u001b[0mhas_images\u001b[0m\u001b[0;34m:\u001b[0m\u001b[0;34m\u001b[0m\u001b[0;34m\u001b[0m\u001b[0m\n\u001b[1;32m    136\u001b[0m         \u001b[0;32mfor\u001b[0m \u001b[0ma\u001b[0m \u001b[0;32min\u001b[0m \u001b[0martists\u001b[0m\u001b[0;34m:\u001b[0m\u001b[0;34m\u001b[0m\u001b[0;34m\u001b[0m\u001b[0m\n\u001b[0;32m--> 137\u001b[0;31m             \u001b[0ma\u001b[0m\u001b[0;34m.\u001b[0m\u001b[0mdraw\u001b[0m\u001b[0;34m(\u001b[0m\u001b[0mrenderer\u001b[0m\u001b[0;34m)\u001b[0m\u001b[0;34m\u001b[0m\u001b[0;34m\u001b[0m\u001b[0m\n\u001b[0m\u001b[1;32m    138\u001b[0m     \u001b[0;32melse\u001b[0m\u001b[0;34m:\u001b[0m\u001b[0;34m\u001b[0m\u001b[0;34m\u001b[0m\u001b[0m\n\u001b[1;32m    139\u001b[0m         \u001b[0;31m# Composite any adjacent images together\u001b[0m\u001b[0;34m\u001b[0m\u001b[0;34m\u001b[0m\u001b[0;34m\u001b[0m\u001b[0m\n",
      "\u001b[0;32m/usr/local/lib/python3.7/dist-packages/matplotlib/artist.py\u001b[0m in \u001b[0;36mdraw_wrapper\u001b[0;34m(artist, renderer, *args, **kwargs)\u001b[0m\n\u001b[1;32m     36\u001b[0m                 \u001b[0mrenderer\u001b[0m\u001b[0;34m.\u001b[0m\u001b[0mstart_filter\u001b[0m\u001b[0;34m(\u001b[0m\u001b[0;34m)\u001b[0m\u001b[0;34m\u001b[0m\u001b[0;34m\u001b[0m\u001b[0m\n\u001b[1;32m     37\u001b[0m \u001b[0;34m\u001b[0m\u001b[0m\n\u001b[0;32m---> 38\u001b[0;31m             \u001b[0;32mreturn\u001b[0m \u001b[0mdraw\u001b[0m\u001b[0;34m(\u001b[0m\u001b[0martist\u001b[0m\u001b[0;34m,\u001b[0m \u001b[0mrenderer\u001b[0m\u001b[0;34m,\u001b[0m \u001b[0;34m*\u001b[0m\u001b[0margs\u001b[0m\u001b[0;34m,\u001b[0m \u001b[0;34m**\u001b[0m\u001b[0mkwargs\u001b[0m\u001b[0;34m)\u001b[0m\u001b[0;34m\u001b[0m\u001b[0;34m\u001b[0m\u001b[0m\n\u001b[0m\u001b[1;32m     39\u001b[0m         \u001b[0;32mfinally\u001b[0m\u001b[0;34m:\u001b[0m\u001b[0;34m\u001b[0m\u001b[0;34m\u001b[0m\u001b[0m\n\u001b[1;32m     40\u001b[0m             \u001b[0;32mif\u001b[0m \u001b[0martist\u001b[0m\u001b[0;34m.\u001b[0m\u001b[0mget_agg_filter\u001b[0m\u001b[0;34m(\u001b[0m\u001b[0;34m)\u001b[0m \u001b[0;32mis\u001b[0m \u001b[0;32mnot\u001b[0m \u001b[0;32mNone\u001b[0m\u001b[0;34m:\u001b[0m\u001b[0;34m\u001b[0m\u001b[0;34m\u001b[0m\u001b[0m\n",
      "\u001b[0;32m/usr/local/lib/python3.7/dist-packages/matplotlib/text.py\u001b[0m in \u001b[0;36mdraw\u001b[0;34m(self, renderer)\u001b[0m\n\u001b[1;32m    731\u001b[0m                     textrenderer.draw_text(gc, x, y, clean_line,\n\u001b[1;32m    732\u001b[0m                                            \u001b[0mtextobj\u001b[0m\u001b[0;34m.\u001b[0m\u001b[0m_fontproperties\u001b[0m\u001b[0;34m,\u001b[0m \u001b[0mangle\u001b[0m\u001b[0;34m,\u001b[0m\u001b[0;34m\u001b[0m\u001b[0;34m\u001b[0m\u001b[0m\n\u001b[0;32m--> 733\u001b[0;31m                                            ismath=ismath, mtext=mtext)\n\u001b[0m\u001b[1;32m    734\u001b[0m \u001b[0;34m\u001b[0m\u001b[0m\n\u001b[1;32m    735\u001b[0m         \u001b[0mgc\u001b[0m\u001b[0;34m.\u001b[0m\u001b[0mrestore\u001b[0m\u001b[0;34m(\u001b[0m\u001b[0;34m)\u001b[0m\u001b[0;34m\u001b[0m\u001b[0;34m\u001b[0m\u001b[0m\n",
      "\u001b[0;32m/usr/local/lib/python3.7/dist-packages/matplotlib/backends/backend_agg.py\u001b[0m in \u001b[0;36mdraw_text\u001b[0;34m(self, gc, x, y, s, prop, angle, ismath, mtext)\u001b[0m\n\u001b[1;32m    181\u001b[0m         \u001b[0;31m# We pass '0' for angle here, since it will be rotated (in raster\u001b[0m\u001b[0;34m\u001b[0m\u001b[0;34m\u001b[0m\u001b[0;34m\u001b[0m\u001b[0m\n\u001b[1;32m    182\u001b[0m         \u001b[0;31m# space) in the following call to draw_text_image).\u001b[0m\u001b[0;34m\u001b[0m\u001b[0;34m\u001b[0m\u001b[0;34m\u001b[0m\u001b[0m\n\u001b[0;32m--> 183\u001b[0;31m         \u001b[0mfont\u001b[0m\u001b[0;34m.\u001b[0m\u001b[0mset_text\u001b[0m\u001b[0;34m(\u001b[0m\u001b[0ms\u001b[0m\u001b[0;34m,\u001b[0m \u001b[0;36m0\u001b[0m\u001b[0;34m,\u001b[0m \u001b[0mflags\u001b[0m\u001b[0;34m=\u001b[0m\u001b[0mflags\u001b[0m\u001b[0;34m)\u001b[0m\u001b[0;34m\u001b[0m\u001b[0;34m\u001b[0m\u001b[0m\n\u001b[0m\u001b[1;32m    184\u001b[0m         \u001b[0mfont\u001b[0m\u001b[0;34m.\u001b[0m\u001b[0mdraw_glyphs_to_bitmap\u001b[0m\u001b[0;34m(\u001b[0m\u001b[0mantialiased\u001b[0m\u001b[0;34m=\u001b[0m\u001b[0mrcParams\u001b[0m\u001b[0;34m[\u001b[0m\u001b[0;34m'text.antialiased'\u001b[0m\u001b[0;34m]\u001b[0m\u001b[0;34m)\u001b[0m\u001b[0;34m\u001b[0m\u001b[0;34m\u001b[0m\u001b[0m\n\u001b[1;32m    185\u001b[0m         \u001b[0md\u001b[0m \u001b[0;34m=\u001b[0m \u001b[0mfont\u001b[0m\u001b[0;34m.\u001b[0m\u001b[0mget_descent\u001b[0m\u001b[0;34m(\u001b[0m\u001b[0;34m)\u001b[0m \u001b[0;34m/\u001b[0m \u001b[0;36m64.0\u001b[0m\u001b[0;34m\u001b[0m\u001b[0;34m\u001b[0m\u001b[0m\n",
      "\u001b[0;31mKeyboardInterrupt\u001b[0m: "
     ]
    }
   ],
   "source": [
    "n_experiments = 2000\n",
    "n_episodes = 5000\n",
    "\n",
    "rewards = np.zeros((n_experiments, n_episodes))\n",
    "\n",
    "for experiment in trange(n_experiments):\n",
    "\n",
    "    env = GridWorld(True)\n",
    "\n",
    "    agent = TDErrorNstepsCliffAgent(alpha=0.01, \n",
    "                                  gamma=0.99, \n",
    "                                  epsilon=0.01, \n",
    "                                  environment=env,\n",
    "                                  seed=experiment,\n",
    "                                  n_steps=2)\n",
    "    for episode in range(n_episodes):\n",
    "        rewards[experiment][episode] = generate_episodeTDError(env, agent, show=True)\n",
    "      \n",
    "agent1StepsTDErrorreward = rewards.mean(0).copy()"
   ]
  },
  {
   "cell_type": "code",
   "execution_count": null,
   "metadata": {
    "id": "BC8lQ6e8BXoo"
   },
   "outputs": [],
   "source": [
    "dump(agent1StepsTDErrorreward, save_path + 'agent1StepsTDErrorreward.pkl')"
   ]
  },
  {
   "cell_type": "code",
   "execution_count": null,
   "metadata": {
    "id": "k874RitDlPT8"
   },
   "outputs": [],
   "source": [
    "n_experiments = 2000\n",
    "n_episodes = 5000\n",
    "\n",
    "rewards = np.zeros((n_experiments, n_episodes))\n",
    "\n",
    "for experiment in range(n_experiments):\n",
    "\n",
    "    env = GridWorld(False)\n",
    "\n",
    "    agent = TDErrorNstepsCliffAgent(alpha=0.01, \n",
    "                                  gamma=0.99, \n",
    "                                  epsilon=0.01, \n",
    "                                  environment=env,\n",
    "                                  seed=experiment,\n",
    "                                  n_steps=4)\n",
    "    for episode in range(n_episodes):\n",
    "        rewards[experiment][episode] = generate_episodeTDError(env, agent, show=False)\n",
    "      \n",
    "agent3StepsTDErrorreward = rewards.mean(0).copy()"
   ]
  },
  {
   "cell_type": "code",
   "execution_count": null,
   "metadata": {
    "id": "hlvcxqwhBb5n"
   },
   "outputs": [],
   "source": [
    "dump(agent3StepsTDErrorreward, save_path + 'agent3StepsTDErrorreward.pkl')"
   ]
  },
  {
   "cell_type": "code",
   "execution_count": null,
   "metadata": {
    "colab": {
     "base_uri": "https://localhost:8080/",
     "height": 391
    },
    "id": "VcQ7Ov8LTX51",
    "outputId": "a5879506-e625-41d9-e77f-66f4e71b7857"
   },
   "outputs": [
    {
     "name": "stderr",
     "output_type": "stream",
     "text": [
      "  0%|          | 2/2000 [01:09<19:19:11, 34.81s/it]"
     ]
    },
    {
     "ename": "KeyboardInterrupt",
     "evalue": "ignored",
     "output_type": "error",
     "traceback": [
      "\u001b[0;31m---------------------------------------------------------------------------\u001b[0m",
      "\u001b[0;31mKeyboardInterrupt\u001b[0m                         Traceback (most recent call last)",
      "\u001b[0;32m<ipython-input-19-c01a3218c0ac>\u001b[0m in \u001b[0;36m<module>\u001b[0;34m()\u001b[0m\n\u001b[1;32m     16\u001b[0m \u001b[0;34m\u001b[0m\u001b[0m\n\u001b[1;32m     17\u001b[0m     \u001b[0;32mfor\u001b[0m \u001b[0mepisode\u001b[0m \u001b[0;32min\u001b[0m \u001b[0mrange\u001b[0m\u001b[0;34m(\u001b[0m\u001b[0mn_episodes\u001b[0m\u001b[0;34m)\u001b[0m\u001b[0;34m:\u001b[0m\u001b[0;34m\u001b[0m\u001b[0;34m\u001b[0m\u001b[0m\n\u001b[0;32m---> 18\u001b[0;31m         \u001b[0mrewards\u001b[0m\u001b[0;34m[\u001b[0m\u001b[0mexperiment\u001b[0m\u001b[0;34m]\u001b[0m\u001b[0;34m[\u001b[0m\u001b[0mepisode\u001b[0m\u001b[0;34m]\u001b[0m \u001b[0;34m=\u001b[0m \u001b[0mgenerate_episode_offpolicy\u001b[0m\u001b[0;34m(\u001b[0m\u001b[0menv\u001b[0m\u001b[0;34m,\u001b[0m \u001b[0magent\u001b[0m\u001b[0;34m,\u001b[0m \u001b[0mshow\u001b[0m\u001b[0;34m=\u001b[0m\u001b[0;32mFalse\u001b[0m\u001b[0;34m)\u001b[0m\u001b[0;34m\u001b[0m\u001b[0;34m\u001b[0m\u001b[0m\n\u001b[0m\u001b[1;32m     19\u001b[0m \u001b[0;34m\u001b[0m\u001b[0m\n\u001b[1;32m     20\u001b[0m \u001b[0magent3StepsOffPolicySarsareward\u001b[0m \u001b[0;34m=\u001b[0m \u001b[0mrewards\u001b[0m\u001b[0;34m.\u001b[0m\u001b[0mmean\u001b[0m\u001b[0;34m(\u001b[0m\u001b[0;36m0\u001b[0m\u001b[0;34m)\u001b[0m\u001b[0;34m.\u001b[0m\u001b[0mcopy\u001b[0m\u001b[0;34m(\u001b[0m\u001b[0;34m)\u001b[0m\u001b[0;34m\u001b[0m\u001b[0;34m\u001b[0m\u001b[0m\n",
      "\u001b[0;32m<ipython-input-16-a2bb62dd4fe2>\u001b[0m in \u001b[0;36mgenerate_episode_offpolicy\u001b[0;34m(env, agent, show)\u001b[0m\n\u001b[1;32m     60\u001b[0m                          \u001b[0mstat_b\u001b[0m\u001b[0;34m[\u001b[0m\u001b[0mtay\u001b[0m\u001b[0;34m+\u001b[0m\u001b[0;36m1\u001b[0m\u001b[0;34m:\u001b[0m\u001b[0mtay\u001b[0m\u001b[0;34m+\u001b[0m\u001b[0mn\u001b[0m\u001b[0;34m+\u001b[0m\u001b[0;36m1\u001b[0m\u001b[0;34m]\u001b[0m\u001b[0;34m,\u001b[0m\u001b[0;34m\u001b[0m\u001b[0;34m\u001b[0m\u001b[0m\n\u001b[1;32m     61\u001b[0m                          \u001b[0mstat_S\u001b[0m\u001b[0;34m[\u001b[0m\u001b[0mtay\u001b[0m\u001b[0;34m+\u001b[0m\u001b[0mn\u001b[0m\u001b[0;34m]\u001b[0m\u001b[0;34m,\u001b[0m\u001b[0;34m\u001b[0m\u001b[0;34m\u001b[0m\u001b[0m\n\u001b[0;32m---> 62\u001b[0;31m                          stat_A[tay+n])\n\u001b[0m\u001b[1;32m     63\u001b[0m          \u001b[0;32melse\u001b[0m\u001b[0;34m:\u001b[0m\u001b[0;34m\u001b[0m\u001b[0;34m\u001b[0m\u001b[0m\n\u001b[1;32m     64\u001b[0m             agent.end(stat_R[tay:T+1],\n",
      "\u001b[0;32m<ipython-input-18-6b91d9b3532f>\u001b[0m in \u001b[0;36mupdate\u001b[0;34m(self, reward_vector, pi_vector, b_vector, state, action)\u001b[0m\n\u001b[1;32m     33\u001b[0m \u001b[0;34m\u001b[0m\u001b[0m\n\u001b[1;32m     34\u001b[0m        \u001b[0mreward\u001b[0m \u001b[0;34m=\u001b[0m \u001b[0mreward_vector\u001b[0m \u001b[0;34m@\u001b[0m \u001b[0mself\u001b[0m\u001b[0;34m.\u001b[0m\u001b[0mvector_gamma\u001b[0m\u001b[0;34m\u001b[0m\u001b[0;34m\u001b[0m\u001b[0m\n\u001b[0;32m---> 35\u001b[0;31m        \u001b[0mro\u001b[0m \u001b[0;34m=\u001b[0m \u001b[0mnp\u001b[0m\u001b[0;34m.\u001b[0m\u001b[0mprod\u001b[0m\u001b[0;34m(\u001b[0m\u001b[0mpi_vector\u001b[0m\u001b[0;34m/\u001b[0m\u001b[0mb_vector\u001b[0m\u001b[0;34m)\u001b[0m\u001b[0;34m\u001b[0m\u001b[0;34m\u001b[0m\u001b[0m\n\u001b[0m\u001b[1;32m     36\u001b[0m \u001b[0;34m\u001b[0m\u001b[0m\n\u001b[1;32m     37\u001b[0m        \u001b[0mQvalue\u001b[0m \u001b[0;34m=\u001b[0m \u001b[0mself\u001b[0m\u001b[0;34m.\u001b[0m\u001b[0mQfunction\u001b[0m\u001b[0;34m[\u001b[0m\u001b[0mstate\u001b[0m\u001b[0;34m]\u001b[0m\u001b[0;34m[\u001b[0m\u001b[0maction\u001b[0m\u001b[0;34m]\u001b[0m\u001b[0;34m\u001b[0m\u001b[0;34m\u001b[0m\u001b[0m\n",
      "\u001b[0;31mKeyboardInterrupt\u001b[0m: "
     ]
    }
   ],
   "source": [
    "n_experiments = 2000\n",
    "n_episodes = 5000\n",
    "\n",
    "rewards = np.zeros((n_experiments, n_episodes))\n",
    "\n",
    "for experiment in trange(n_experiments):\n",
    "\n",
    "    env = GridWorld(False)\n",
    "\n",
    "    agent = OffPolicySarsaNstepsCliffAgent(alpha=0.01, \n",
    "                                  gamma=0.99, \n",
    "                                  epsilon=0.01, \n",
    "                                  environment=env,\n",
    "                                  seed=experiment,\n",
    "                                  n_steps=3)\n",
    "    \n",
    "    for episode in range(n_episodes):\n",
    "        rewards[experiment][episode] = generate_episode_offpolicy(env, agent, show=False)\n",
    "\n",
    "agent3StepsOffPolicySarsareward = rewards.mean(0).copy()"
   ]
  },
  {
   "cell_type": "code",
   "execution_count": null,
   "metadata": {
    "id": "CbJhSRe1AbX7"
   },
   "outputs": [],
   "source": [
    "plt.rcParams[\"figure.figsize\"] = (20,16)\n",
    "\n",
    "plt.title('Cliff World')\n",
    "plt.xlabel('Episode')\n",
    "plt.ylabel('Reward')\n",
    "plt.plot(range(1, n_episodes + 1), agent1StepsSarsareward, 'b--',\n",
    "         range(1, n_episodes + 1), agent3StepsSarsareward,'g', \n",
    "         range(1, n_episodes + 1), agent1StepsTDErrorreward,\n",
    "         range(1, n_episodes + 1), agent3StepsTDErrorreward,\n",
    "         range(1, n_episodes + 1), agent1StepsExpectedSarsareward,\n",
    "         range(1, n_episodes + 1), agent3StepsExpectedSarsareward)\n",
    "\n",
    "plt.legend(['One-step Sarsa',\n",
    "            'Three-step Sarsa', \n",
    "            'One-step TD error', \n",
    "            'Three-step TD error',\n",
    "            'One-step Expected Sarsa',\n",
    "            'Three-step Expected Sarsa',], loc=2)\n",
    "\n",
    "plt.savefig(save_path + 'results_cliffworld_5000episodes.png')\n",
    "plt.show()"
   ]
  },
  {
   "cell_type": "code",
   "execution_count": null,
   "metadata": {
    "id": "jBLHGi1q8Bf_"
   },
   "outputs": [],
   "source": [
    "# https://habr.com/ru/company/hsespb/blog/444428/\n",
    "# https://github.com/lbarazza/Tile-Coding/blob/master/tiles.py"
   ]
  }
 ],
 "metadata": {
  "colab": {
   "provenance": []
  },
  "kernelspec": {
   "display_name": "Python 3",
   "language": "python",
   "name": "python3"
  },
  "language_info": {
   "codemirror_mode": {
    "name": "ipython",
    "version": 3
   },
   "file_extension": ".py",
   "mimetype": "text/x-python",
   "name": "python",
   "nbconvert_exporter": "python",
   "pygments_lexer": "ipython3",
   "version": "3.7.1"
  }
 },
 "nbformat": 4,
 "nbformat_minor": 1
}
